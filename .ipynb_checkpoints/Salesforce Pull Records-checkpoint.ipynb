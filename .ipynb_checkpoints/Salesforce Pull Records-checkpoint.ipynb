{
 "cells": [
  {
   "cell_type": "code",
   "execution_count": 2,
   "id": "06a05a97",
   "metadata": {},
   "outputs": [],
   "source": [
    "sf = Salesforce(username='charles.stephens@evolve.com',password='Beardog1!', security_token='M4inaqMle93u9xKLO3mumNnS9')"
   ]
  },
  {
   "cell_type": "code",
   "execution_count": null,
   "id": "1efc5b7f",
   "metadata": {},
   "outputs": [],
   "source": [
    "from simple_salesforce import Salesforce\n",
    "import requests\n",
    "import pandas as pd\n",
    "from io import StringIO\n",
    "import pprint"
   ]
  },
  {
   "cell_type": "code",
   "execution_count": null,
   "id": "fb1ac1d0",
   "metadata": {},
   "outputs": [],
   "source": []
  },
  {
   "cell_type": "code",
   "execution_count": 56,
   "id": "7989c18b",
   "metadata": {},
   "outputs": [],
   "source": [
    "data = sf.query(\"SELECT Id, Email, Name FROM Contact WHERE LastName = 'Smith'\")\n",
    "# Set up columns\n",
    "id = []\n",
    "email = []\n",
    "name = []\n",
    "for record in data['records']:\n",
    "    id.append(record['Id'])\n",
    "    email.append(record['Email'])\n",
    "    name.append(record['Name'])\n",
    "    record_dict = {}\n",
    "    record_dict['Id'] = id\n",
    "    record_dict['Email'] = email\n",
    "    record_dict['Name'] = name\n",
    "    \n",
    "df = pd.DataFrame(record_dict)\n"
   ]
  },
  {
   "cell_type": "code",
   "execution_count": 57,
   "id": "79223528",
   "metadata": {},
   "outputs": [],
   "source": [
    "df.to_excel(r'C:\\Users\\charles.stephens\\Desktop\\Evolve\\Salesforce\\123.xlsx')"
   ]
  },
  {
   "cell_type": "code",
   "execution_count": 53,
   "id": "55c9f4d8",
   "metadata": {},
   "outputs": [],
   "source": [
    "df.to_csv(r'C:\\Users\\charles.stephens\\Desktop\\Evolve\\Salesforce\\records.csv')"
   ]
  },
  {
   "cell_type": "code",
   "execution_count": 46,
   "id": "72d6b3ce",
   "metadata": {},
   "outputs": [],
   "source": []
  },
  {
   "cell_type": "code",
   "execution_count": null,
   "id": "f0b4d09a",
   "metadata": {},
   "outputs": [],
   "source": []
  }
 ],
 "metadata": {
  "kernelspec": {
   "display_name": "Python 3 (ipykernel)",
   "language": "python",
   "name": "python3"
  },
  "language_info": {
   "codemirror_mode": {
    "name": "ipython",
    "version": 3
   },
   "file_extension": ".py",
   "mimetype": "text/x-python",
   "name": "python",
   "nbconvert_exporter": "python",
   "pygments_lexer": "ipython3",
   "version": "3.9.12"
  }
 },
 "nbformat": 4,
 "nbformat_minor": 5
}
